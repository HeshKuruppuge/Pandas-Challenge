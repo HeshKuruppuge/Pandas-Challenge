{
 "cells": [
  {
   "cell_type": "markdown",
   "metadata": {},
   "source": [
    "### Note\n",
    "* Instructions have been included for each segment. You do not have to follow them exactly, but they are included to help you think through the steps."
   ]
  },
  {
   "cell_type": "code",
   "execution_count": 9,
   "metadata": {},
   "outputs": [],
   "source": [
    "# Dependencies and Setup\n",
    "import pandas as pd\n",
    "import numpy as np\n",
    "\n",
    "# File to Load \n",
    "file_to_load = \"Resources/purchase_data.csv\"\n",
    "\n",
    "# Read Purchasing File and store into Pandas data frame\n",
    "purchase_data = pd.read_csv(file_to_load)"
   ]
  },
  {
   "cell_type": "markdown",
   "metadata": {},
   "source": [
    "## Player Count"
   ]
  },
  {
   "cell_type": "markdown",
   "metadata": {},
   "source": [
    "* Display the total number of players\n"
   ]
  },
  {
   "cell_type": "code",
   "execution_count": 10,
   "metadata": {},
   "outputs": [
    {
     "data": {
      "text/html": [
       "<div>\n",
       "<style scoped>\n",
       "    .dataframe tbody tr th:only-of-type {\n",
       "        vertical-align: middle;\n",
       "    }\n",
       "\n",
       "    .dataframe tbody tr th {\n",
       "        vertical-align: top;\n",
       "    }\n",
       "\n",
       "    .dataframe thead th {\n",
       "        text-align: right;\n",
       "    }\n",
       "</style>\n",
       "<table border=\"1\" class=\"dataframe\">\n",
       "  <thead>\n",
       "    <tr style=\"text-align: right;\">\n",
       "      <th></th>\n",
       "      <th>Total Players</th>\n",
       "    </tr>\n",
       "  </thead>\n",
       "  <tbody>\n",
       "    <tr>\n",
       "      <th>0</th>\n",
       "      <td>576</td>\n",
       "    </tr>\n",
       "  </tbody>\n",
       "</table>\n",
       "</div>"
      ],
      "text/plain": [
       "   Total Players\n",
       "0            576"
      ]
     },
     "execution_count": 10,
     "metadata": {},
     "output_type": "execute_result"
    }
   ],
   "source": [
    "#Find the Total number of players \n",
    "Player_Count=len(purchase_data[\"SN\"].value_counts())\n",
    "\n",
    "#printed to see whether I am getting correct answer and commented as it is not required\n",
    "#Player_Count\n",
    "\n",
    "#Put the answer into a table format as in the given answer\n",
    "pd.DataFrame({\"Total Players\":[Player_Count]})"
   ]
  },
  {
   "cell_type": "markdown",
   "metadata": {},
   "source": [
    "## Purchasing Analysis (Total)"
   ]
  },
  {
   "cell_type": "markdown",
   "metadata": {},
   "source": [
    "* Run basic calculations to obtain number of unique items, average price, etc.\n",
    "\n",
    "\n",
    "* Create a summary data frame to hold the results\n",
    "\n",
    "\n",
    "* Optional: give the displayed data cleaner formatting\n",
    "\n",
    "\n",
    "* Display the summary data frame\n"
   ]
  },
  {
   "cell_type": "code",
   "execution_count": 11,
   "metadata": {
    "scrolled": true
   },
   "outputs": [
    {
     "data": {
      "text/html": [
       "<div>\n",
       "<style scoped>\n",
       "    .dataframe tbody tr th:only-of-type {\n",
       "        vertical-align: middle;\n",
       "    }\n",
       "\n",
       "    .dataframe tbody tr th {\n",
       "        vertical-align: top;\n",
       "    }\n",
       "\n",
       "    .dataframe thead th {\n",
       "        text-align: right;\n",
       "    }\n",
       "</style>\n",
       "<table border=\"1\" class=\"dataframe\">\n",
       "  <thead>\n",
       "    <tr style=\"text-align: right;\">\n",
       "      <th></th>\n",
       "      <th>Number of Unique Items</th>\n",
       "      <th>Average Price</th>\n",
       "      <th>Number of Purchases</th>\n",
       "      <th>Total Revenue</th>\n",
       "    </tr>\n",
       "  </thead>\n",
       "  <tbody>\n",
       "    <tr>\n",
       "      <th>0</th>\n",
       "      <td>179</td>\n",
       "      <td>$3.05</td>\n",
       "      <td>780</td>\n",
       "      <td>$2379.77</td>\n",
       "    </tr>\n",
       "  </tbody>\n",
       "</table>\n",
       "</div>"
      ],
      "text/plain": [
       "   Number of Unique Items Average Price  Number of Purchases Total Revenue\n",
       "0                     179         $3.05                  780      $2379.77"
      ]
     },
     "execution_count": 11,
     "metadata": {},
     "output_type": "execute_result"
    }
   ],
   "source": [
    "#The Unique item\n",
    "Unique_Items=len(purchase_data[\"Item ID\"].unique())\n",
    "Unique_Items\n",
    "\n",
    "#Calculate the total Price\n",
    "Total_Price=\"$\"+str(round(purchase_data[\"Price\"].sum(),2))\n",
    "Total_Price\n",
    "\n",
    "#Calculate number of Purchases\n",
    "Number_Of_Purchases=purchase_data[\"Price\"].count()\n",
    "Number_Of_Purchases\n",
    "\n",
    "#Calculate Average Price\n",
    "Average_Price=\"$\"+str(round(purchase_data[\"Price\"].mean(),2))\n",
    "Average_Price\n",
    "\n",
    "#Put the answer into a data frame\n",
    "pd.DataFrame({\"Number of Unique Items\":[Unique_Items],\"Average Price\":[Average_Price],\"Number of Purchases\":[Number_Of_Purchases],\"Total Revenue\":[Total_Price]})"
   ]
  },
  {
   "cell_type": "markdown",
   "metadata": {},
   "source": [
    "## Gender Demographics"
   ]
  },
  {
   "cell_type": "markdown",
   "metadata": {},
   "source": [
    "* Percentage and Count of Male Players\n",
    "\n",
    "\n",
    "* Percentage and Count of Female Players\n",
    "\n",
    "\n",
    "* Percentage and Count of Other / Non-Disclosed\n",
    "\n",
    "\n"
   ]
  },
  {
   "cell_type": "code",
   "execution_count": 12,
   "metadata": {},
   "outputs": [
    {
     "data": {
      "text/html": [
       "<div>\n",
       "<style scoped>\n",
       "    .dataframe tbody tr th:only-of-type {\n",
       "        vertical-align: middle;\n",
       "    }\n",
       "\n",
       "    .dataframe tbody tr th {\n",
       "        vertical-align: top;\n",
       "    }\n",
       "\n",
       "    .dataframe thead th {\n",
       "        text-align: right;\n",
       "    }\n",
       "</style>\n",
       "<table border=\"1\" class=\"dataframe\">\n",
       "  <thead>\n",
       "    <tr style=\"text-align: right;\">\n",
       "      <th></th>\n",
       "      <th>Total Count</th>\n",
       "      <th>Percentage of Players</th>\n",
       "    </tr>\n",
       "  </thead>\n",
       "  <tbody>\n",
       "    <tr>\n",
       "      <th>Male</th>\n",
       "      <td>484</td>\n",
       "      <td>84.03</td>\n",
       "    </tr>\n",
       "    <tr>\n",
       "      <th>Female</th>\n",
       "      <td>81</td>\n",
       "      <td>14.06</td>\n",
       "    </tr>\n",
       "    <tr>\n",
       "      <th>Other / Non-Disclosed</th>\n",
       "      <td>11</td>\n",
       "      <td>1.91</td>\n",
       "    </tr>\n",
       "  </tbody>\n",
       "</table>\n",
       "</div>"
      ],
      "text/plain": [
       "                       Total Count  Percentage of Players\n",
       "Male                           484                  84.03\n",
       "Female                          81                  14.06\n",
       "Other / Non-Disclosed           11                   1.91"
      ]
     },
     "execution_count": 12,
     "metadata": {},
     "output_type": "execute_result"
    }
   ],
   "source": [
    "#Percentage and Count of Male Players\n",
    "#create seperate data frame based on SN and Gender\n",
    "Gender_group=purchase_data[[\"SN\",\"Gender\"]]\n",
    "\n",
    "# remove duplicates of above data frame based on SN column as this column include same player multiple times\n",
    "Gender_group1=Gender_group.drop_duplicates(subset=['SN'])\n",
    "Gender_group1\n",
    "\n",
    "#Get the count of players in each gender \n",
    "Gender_count=Gender_group1[\"Gender\"].value_counts()\n",
    "Gender_count\n",
    "\n",
    "#Calculate the Gender Percentage, to do that we need to devide each gender count by total gender count and multiply by 100\n",
    "# If refer to Gender_count table, there are only three position which I can address with Index numbers(Index 0,index 1 and index2 )as there are only three geneder categories\n",
    "Gender_percentage= [round((Gender_count[0]/Player_Count)*100,2),round((Gender_count[1]/Player_Count)*100,2),round((Gender_count[2]/Player_Count)*100,2)]\n",
    "Gender_percentage\n",
    "\n",
    "#Create new data frame with above calculation.\n",
    "Gender_df=pd.DataFrame({\"Total Count\":Gender_count,\"Percentage of Players\":Gender_percentage})\n",
    "Gender_df"
   ]
  },
  {
   "cell_type": "markdown",
   "metadata": {},
   "source": [
    "\n",
    "## Purchasing Analysis (Gender)"
   ]
  },
  {
   "cell_type": "markdown",
   "metadata": {},
   "source": [
    "* Run basic calculations to obtain purchase count, avg. purchase price, avg. purchase total per person etc. by gender\n",
    "\n",
    "\n",
    "\n",
    "\n",
    "* Create a summary data frame to hold the results\n",
    "\n",
    "\n",
    "* Optional: give the displayed data cleaner formatting\n",
    "\n",
    "\n",
    "* Display the summary data frame"
   ]
  },
  {
   "cell_type": "code",
   "execution_count": 33,
   "metadata": {
    "scrolled": true
   },
   "outputs": [
    {
     "data": {
      "text/html": [
       "<style  type=\"text/css\" >\n",
       "</style><table id=\"T_b407a_\" ><thead>    <tr>        <th class=\"blank level0\" ></th>        <th class=\"col_heading level0 col0\" >Purchase Count</th>        <th class=\"col_heading level0 col1\" >Average Purchase Price</th>        <th class=\"col_heading level0 col2\" >Average Purchase Value</th>        <th class=\"col_heading level0 col3\" >Average Purchase Total per Person</th>    </tr>    <tr>        <th class=\"index_name level0\" >Gender</th>        <th class=\"blank\" ></th>        <th class=\"blank\" ></th>        <th class=\"blank\" ></th>        <th class=\"blank\" ></th>    </tr></thead><tbody>\n",
       "                <tr>\n",
       "                        <th id=\"T_b407a_level0_row0\" class=\"row_heading level0 row0\" >Female</th>\n",
       "                        <td id=\"T_b407a_row0_col0\" class=\"data row0 col0\" >113</td>\n",
       "                        <td id=\"T_b407a_row0_col1\" class=\"data row0 col1\" >$3.20</td>\n",
       "                        <td id=\"T_b407a_row0_col2\" class=\"data row0 col2\" >$361.94</td>\n",
       "                        <td id=\"T_b407a_row0_col3\" class=\"data row0 col3\" >$4.47</td>\n",
       "            </tr>\n",
       "            <tr>\n",
       "                        <th id=\"T_b407a_level0_row1\" class=\"row_heading level0 row1\" >Male</th>\n",
       "                        <td id=\"T_b407a_row1_col0\" class=\"data row1 col0\" >652</td>\n",
       "                        <td id=\"T_b407a_row1_col1\" class=\"data row1 col1\" >$3.02</td>\n",
       "                        <td id=\"T_b407a_row1_col2\" class=\"data row1 col2\" >$1,967.64</td>\n",
       "                        <td id=\"T_b407a_row1_col3\" class=\"data row1 col3\" >$4.07</td>\n",
       "            </tr>\n",
       "            <tr>\n",
       "                        <th id=\"T_b407a_level0_row2\" class=\"row_heading level0 row2\" >Other / Non-Disclosed</th>\n",
       "                        <td id=\"T_b407a_row2_col0\" class=\"data row2 col0\" >15</td>\n",
       "                        <td id=\"T_b407a_row2_col1\" class=\"data row2 col1\" >$3.35</td>\n",
       "                        <td id=\"T_b407a_row2_col2\" class=\"data row2 col2\" >$50.19</td>\n",
       "                        <td id=\"T_b407a_row2_col3\" class=\"data row2 col3\" >$4.56</td>\n",
       "            </tr>\n",
       "    </tbody></table>"
      ],
      "text/plain": [
       "<pandas.io.formats.style.Styler at 0x27953f3ba60>"
      ]
     },
     "execution_count": 33,
     "metadata": {},
     "output_type": "execute_result"
    }
   ],
   "source": [
    "#Run basic calculations to obtain \n",
    "\n",
    "#Use Groupby in order to seperate the data into fields according to \"SN\" values\n",
    "Gender_grouped=purchase_data.groupby(\"Gender\")\n",
    "\n",
    "#***purchase count\n",
    "purchase_count=Gender_grouped[\"Purchase ID\"].count()\n",
    "purchase_count\n",
    "\n",
    "#***Average purchase total by gender\n",
    "Ave_purchase_total=Gender_grouped[\"Price\"].sum()\n",
    "Ave_purchase_total\n",
    "\n",
    "#***Average purchase price by gender = Total Purchase price per Gender/Purchase Count\n",
    "Ave_purchase_price_by_Gen=Gender_grouped[\"Price\"].mean()\n",
    "Ave_purchase_price_by_Gen\n",
    "\n",
    "#***Calculate Average Total purchase per person = \n",
    "Ave_purchase_per_person=Ave_purchase_total/Gender_count\n",
    "Ave_purchase_per_person\n",
    "\n",
    "\n",
    "#Create summary data frame with above calculated values\n",
    "Purchase_demo=pd.DataFrame({\"Purchase Count\":purchase_count,\n",
    "                          \"Average Purchase Price\":Ave_purchase_price_by_Gen,\n",
    "                           \"Average Purchase Value\":Ave_purchase_total,\n",
    "                          \"Average Purchase Total per Person\":Ave_purchase_per_person})\n",
    "Purchase_demo\n",
    "\n",
    "#displayed data cleaner formatting, Set the index first\n",
    "Purchase_demo.index.name=\"Gender\"\n",
    "Purchase_demo\n",
    "\n",
    "#Formatting \n",
    "Purchase_demo.style.format({\"Average Purchase Price\":\"${:,.2f}\",\"Average Purchase Value\":\"${:,.2f}\",\"Average Purchase Total per Person\":\"${:,.2f}\"})\n",
    "\n"
   ]
  },
  {
   "cell_type": "markdown",
   "metadata": {},
   "source": [
    "## Age Demographics"
   ]
  },
  {
   "cell_type": "markdown",
   "metadata": {},
   "source": [
    "* Establish bins for ages\n",
    "\n",
    "\n",
    "* Categorize the existing players using the age bins. Hint: use pd.cut()\n",
    "\n",
    "\n",
    "* Calculate the numbers and percentages by age group\n",
    "\n",
    "\n",
    "* Create a summary data frame to hold the results\n",
    "\n",
    "\n",
    "* Optional: round the percentage column to two decimal points\n",
    "\n",
    "\n",
    "* Display Age Demographics Table\n"
   ]
  },
  {
   "cell_type": "code",
   "execution_count": 34,
   "metadata": {},
   "outputs": [
    {
     "data": {
      "text/html": [
       "<style  type=\"text/css\" >\n",
       "</style><table id=\"T_936d3_\" ><thead>    <tr>        <th class=\"blank level0\" ></th>        <th class=\"col_heading level0 col0\" >Total Count</th>        <th class=\"col_heading level0 col1\" >Percentage of Players</th>    </tr></thead><tbody>\n",
       "                <tr>\n",
       "                        <th id=\"T_936d3_level0_row0\" class=\"row_heading level0 row0\" ><10</th>\n",
       "                        <td id=\"T_936d3_row0_col0\" class=\"data row0 col0\" >17</td>\n",
       "                        <td id=\"T_936d3_row0_col1\" class=\"data row0 col1\" >2.95%</td>\n",
       "            </tr>\n",
       "            <tr>\n",
       "                        <th id=\"T_936d3_level0_row1\" class=\"row_heading level0 row1\" >10-14</th>\n",
       "                        <td id=\"T_936d3_row1_col0\" class=\"data row1 col0\" >22</td>\n",
       "                        <td id=\"T_936d3_row1_col1\" class=\"data row1 col1\" >3.82%</td>\n",
       "            </tr>\n",
       "            <tr>\n",
       "                        <th id=\"T_936d3_level0_row2\" class=\"row_heading level0 row2\" >15-19</th>\n",
       "                        <td id=\"T_936d3_row2_col0\" class=\"data row2 col0\" >107</td>\n",
       "                        <td id=\"T_936d3_row2_col1\" class=\"data row2 col1\" >18.58%</td>\n",
       "            </tr>\n",
       "            <tr>\n",
       "                        <th id=\"T_936d3_level0_row3\" class=\"row_heading level0 row3\" >20-24</th>\n",
       "                        <td id=\"T_936d3_row3_col0\" class=\"data row3 col0\" >258</td>\n",
       "                        <td id=\"T_936d3_row3_col1\" class=\"data row3 col1\" >44.79%</td>\n",
       "            </tr>\n",
       "            <tr>\n",
       "                        <th id=\"T_936d3_level0_row4\" class=\"row_heading level0 row4\" >25-29</th>\n",
       "                        <td id=\"T_936d3_row4_col0\" class=\"data row4 col0\" >77</td>\n",
       "                        <td id=\"T_936d3_row4_col1\" class=\"data row4 col1\" >13.37%</td>\n",
       "            </tr>\n",
       "            <tr>\n",
       "                        <th id=\"T_936d3_level0_row5\" class=\"row_heading level0 row5\" >30-34</th>\n",
       "                        <td id=\"T_936d3_row5_col0\" class=\"data row5 col0\" >52</td>\n",
       "                        <td id=\"T_936d3_row5_col1\" class=\"data row5 col1\" >9.03%</td>\n",
       "            </tr>\n",
       "            <tr>\n",
       "                        <th id=\"T_936d3_level0_row6\" class=\"row_heading level0 row6\" >35-39</th>\n",
       "                        <td id=\"T_936d3_row6_col0\" class=\"data row6 col0\" >31</td>\n",
       "                        <td id=\"T_936d3_row6_col1\" class=\"data row6 col1\" >5.38%</td>\n",
       "            </tr>\n",
       "            <tr>\n",
       "                        <th id=\"T_936d3_level0_row7\" class=\"row_heading level0 row7\" >40+</th>\n",
       "                        <td id=\"T_936d3_row7_col0\" class=\"data row7 col0\" >12</td>\n",
       "                        <td id=\"T_936d3_row7_col1\" class=\"data row7 col1\" >2.08%</td>\n",
       "            </tr>\n",
       "    </tbody></table>"
      ],
      "text/plain": [
       "<pandas.io.formats.style.Styler at 0x27954030490>"
      ]
     },
     "execution_count": 34,
     "metadata": {},
     "output_type": "execute_result"
    }
   ],
   "source": [
    "#Establish bins for ages\n",
    "Age_bins=[0, 9.90, 14.90, 19.90, 24.90, 29.90, 34.90, 39.90, 99999]\n",
    "Group_names=[\"<10\", \"10-14\", \"15-19\", \"20-24\", \"25-29\", \"30-34\", \"35-39\", \"40+\"]\n",
    "\n",
    "#Catergorise the existing players using  the above created bins\n",
    "purchase_data[\"Age Bins\"]=pd.cut(purchase_data[\"Age\"],Age_bins,labels=Group_names)\n",
    "purchase_data\n",
    "\n",
    "#Count total players by category \"Age\" and drop the duplicated using .nunique method\n",
    "Age_grouped=purchase_data.groupby(\"Age Bins\")\n",
    "\n",
    "#Calculate the total player count comes under each bin\n",
    "Total_player_count_Bin=Age_grouped[\"SN\"].nunique()\n",
    "Total_player_count_Bin\n",
    "\n",
    "#Calculate the Player Count percentage\n",
    "Player_count_percentage=Total_player_count_Bin/Player_Count*100\n",
    "Player_count_percentage\n",
    "\n",
    "#Create new data frame to hold both column data\n",
    "Age_demo=pd.DataFrame({\"Total Count\":Total_player_count_Bin,\"Percentage of Players\":Player_count_percentage})\n",
    "Age_demo\n",
    "\n",
    "Age_demo.index.name=None\n",
    "Age_demo\n",
    "\n",
    "#Just format the Percentage of Player column to two decimal places\n",
    "Age_demo.style.format({\"Percentage of Players\":'{:,.2f}%'})\n",
    "\n"
   ]
  },
  {
   "cell_type": "markdown",
   "metadata": {},
   "source": [
    "## Purchasing Analysis (Age)"
   ]
  },
  {
   "cell_type": "markdown",
   "metadata": {},
   "source": [
    "* Bin the purchase_data data frame by age\n",
    "\n",
    "\n",
    "* Run basic calculations to obtain purchase count, avg. purchase price, avg. purchase total per person etc. in the table below\n",
    "\n",
    "\n",
    "* Create a summary data frame to hold the results\n",
    "\n",
    "\n",
    "* Optional: give the displayed data cleaner formatting\n",
    "\n",
    "\n",
    "* Display the summary data frame"
   ]
  },
  {
   "cell_type": "code",
   "execution_count": 25,
   "metadata": {},
   "outputs": [
    {
     "data": {
      "text/html": [
       "<style  type=\"text/css\" >\n",
       "</style><table id=\"T_ed361_\" ><thead>    <tr>        <th class=\"blank level0\" ></th>        <th class=\"col_heading level0 col0\" >Purchase Count</th>        <th class=\"col_heading level0 col1\" >Average Purchase Price</th>        <th class=\"col_heading level0 col2\" >Total Purchase Value</th>        <th class=\"col_heading level0 col3\" >Avg Total Purchase per Poerson</th>    </tr></thead><tbody>\n",
       "                <tr>\n",
       "                        <th id=\"T_ed361_level0_row0\" class=\"row_heading level0 row0\" ><10</th>\n",
       "                        <td id=\"T_ed361_row0_col0\" class=\"data row0 col0\" >23</td>\n",
       "                        <td id=\"T_ed361_row0_col1\" class=\"data row0 col1\" >$3.35</td>\n",
       "                        <td id=\"T_ed361_row0_col2\" class=\"data row0 col2\" >$77.13</td>\n",
       "                        <td id=\"T_ed361_row0_col3\" class=\"data row0 col3\" >$4.54</td>\n",
       "            </tr>\n",
       "            <tr>\n",
       "                        <th id=\"T_ed361_level0_row1\" class=\"row_heading level0 row1\" >10-14</th>\n",
       "                        <td id=\"T_ed361_row1_col0\" class=\"data row1 col0\" >28</td>\n",
       "                        <td id=\"T_ed361_row1_col1\" class=\"data row1 col1\" >$2.96</td>\n",
       "                        <td id=\"T_ed361_row1_col2\" class=\"data row1 col2\" >$82.78</td>\n",
       "                        <td id=\"T_ed361_row1_col3\" class=\"data row1 col3\" >$3.76</td>\n",
       "            </tr>\n",
       "            <tr>\n",
       "                        <th id=\"T_ed361_level0_row2\" class=\"row_heading level0 row2\" >15-19</th>\n",
       "                        <td id=\"T_ed361_row2_col0\" class=\"data row2 col0\" >136</td>\n",
       "                        <td id=\"T_ed361_row2_col1\" class=\"data row2 col1\" >$3.04</td>\n",
       "                        <td id=\"T_ed361_row2_col2\" class=\"data row2 col2\" >$412.89</td>\n",
       "                        <td id=\"T_ed361_row2_col3\" class=\"data row2 col3\" >$3.86</td>\n",
       "            </tr>\n",
       "            <tr>\n",
       "                        <th id=\"T_ed361_level0_row3\" class=\"row_heading level0 row3\" >20-24</th>\n",
       "                        <td id=\"T_ed361_row3_col0\" class=\"data row3 col0\" >365</td>\n",
       "                        <td id=\"T_ed361_row3_col1\" class=\"data row3 col1\" >$3.05</td>\n",
       "                        <td id=\"T_ed361_row3_col2\" class=\"data row3 col2\" >$1,114.06</td>\n",
       "                        <td id=\"T_ed361_row3_col3\" class=\"data row3 col3\" >$4.32</td>\n",
       "            </tr>\n",
       "            <tr>\n",
       "                        <th id=\"T_ed361_level0_row4\" class=\"row_heading level0 row4\" >25-29</th>\n",
       "                        <td id=\"T_ed361_row4_col0\" class=\"data row4 col0\" >101</td>\n",
       "                        <td id=\"T_ed361_row4_col1\" class=\"data row4 col1\" >$2.90</td>\n",
       "                        <td id=\"T_ed361_row4_col2\" class=\"data row4 col2\" >$293.00</td>\n",
       "                        <td id=\"T_ed361_row4_col3\" class=\"data row4 col3\" >$3.81</td>\n",
       "            </tr>\n",
       "            <tr>\n",
       "                        <th id=\"T_ed361_level0_row5\" class=\"row_heading level0 row5\" >30-34</th>\n",
       "                        <td id=\"T_ed361_row5_col0\" class=\"data row5 col0\" >73</td>\n",
       "                        <td id=\"T_ed361_row5_col1\" class=\"data row5 col1\" >$2.93</td>\n",
       "                        <td id=\"T_ed361_row5_col2\" class=\"data row5 col2\" >$214.00</td>\n",
       "                        <td id=\"T_ed361_row5_col3\" class=\"data row5 col3\" >$4.12</td>\n",
       "            </tr>\n",
       "            <tr>\n",
       "                        <th id=\"T_ed361_level0_row6\" class=\"row_heading level0 row6\" >35-39</th>\n",
       "                        <td id=\"T_ed361_row6_col0\" class=\"data row6 col0\" >41</td>\n",
       "                        <td id=\"T_ed361_row6_col1\" class=\"data row6 col1\" >$3.60</td>\n",
       "                        <td id=\"T_ed361_row6_col2\" class=\"data row6 col2\" >$147.67</td>\n",
       "                        <td id=\"T_ed361_row6_col3\" class=\"data row6 col3\" >$4.76</td>\n",
       "            </tr>\n",
       "            <tr>\n",
       "                        <th id=\"T_ed361_level0_row7\" class=\"row_heading level0 row7\" >40+</th>\n",
       "                        <td id=\"T_ed361_row7_col0\" class=\"data row7 col0\" >13</td>\n",
       "                        <td id=\"T_ed361_row7_col1\" class=\"data row7 col1\" >$2.94</td>\n",
       "                        <td id=\"T_ed361_row7_col2\" class=\"data row7 col2\" >$38.24</td>\n",
       "                        <td id=\"T_ed361_row7_col3\" class=\"data row7 col3\" >$3.19</td>\n",
       "            </tr>\n",
       "    </tbody></table>"
      ],
      "text/plain": [
       "<pandas.io.formats.style.Styler at 0x27953eedca0>"
      ]
     },
     "execution_count": 25,
     "metadata": {},
     "output_type": "execute_result"
    }
   ],
   "source": [
    "#Can use the same bin created in the above Age Demo, here I am going to calculate\n",
    "#***Purchase Count\n",
    "Pur_count_by_age=Age_grouped[\"Purchase ID\"].count()\n",
    "Pur_count_by_age\n",
    "\n",
    "#***Average Purchase Price= Total Purchase price/purchase count \n",
    "Total_purchase_price=Age_grouped[\"Price\"].sum()\n",
    "Total_purchase_price\n",
    "\n",
    "#***Average perchase price per person- in here I need to get the total purchase by each bin and devide that value by purchase count by age\n",
    "Ave_purchase_price=Total_purchase_price/Pur_count_by_age\n",
    "Ave_purchase_price\n",
    "\n",
    "#Calculate Average Total per person- with this one, I need to get the total purchase by each bin and devode that by total number of playes count in the each bin\n",
    "Ave_total_purchase_per_person=Total_purchase_price/Total_player_count_Bin\n",
    "Ave_total_purchase_per_person\n",
    "\n",
    "#Set them up in new data frame\n",
    "Purchasing_age_demo=pd.DataFrame({\"Purchase Count\":Pur_count_by_age,\"Average Purchase Price\":Ave_purchase_price,\"Total Purchase Value\":Total_purchase_price,\"Avg Total Purchase per Poerson\":Ave_total_purchase_per_person})\n",
    "Purchasing_age_demo\n",
    "\n",
    "\n",
    "#Apply the formatting\n",
    "Purchasing_age_demo.style.format({\"Average Purchase Price\":'${:,.2f}',\"Total Purchase Value\":'${:,.2f}',\"Avg Total Purchase per Poerson\":'${:,.2f}'})\n"
   ]
  },
  {
   "cell_type": "markdown",
   "metadata": {},
   "source": [
    "## Top Spenders"
   ]
  },
  {
   "cell_type": "markdown",
   "metadata": {},
   "source": [
    "* Run basic calculations to obtain the results in the table below\n",
    "\n",
    "\n",
    "* Create a summary data frame to hold the results\n",
    "\n",
    "\n",
    "* Sort the total purchase value column in descending order\n",
    "\n",
    "\n",
    "* Optional: give the displayed data cleaner formatting\n",
    "\n",
    "\n",
    "* Display a preview of the summary data frame\n",
    "\n"
   ]
  },
  {
   "cell_type": "code",
   "execution_count": 7,
   "metadata": {},
   "outputs": [
    {
     "data": {
      "text/html": [
       "<style  type=\"text/css\" >\n",
       "</style><table id=\"T_71955_\" ><thead>    <tr>        <th class=\"blank level0\" ></th>        <th class=\"col_heading level0 col0\" >Purchase Count</th>        <th class=\"col_heading level0 col1\" >Average Purchase Price</th>        <th class=\"col_heading level0 col2\" >Total Purchase Value</th>    </tr>    <tr>        <th class=\"index_name level0\" >SN</th>        <th class=\"blank\" ></th>        <th class=\"blank\" ></th>        <th class=\"blank\" ></th>    </tr></thead><tbody>\n",
       "                <tr>\n",
       "                        <th id=\"T_71955_level0_row0\" class=\"row_heading level0 row0\" >Lisosia93</th>\n",
       "                        <td id=\"T_71955_row0_col0\" class=\"data row0 col0\" >5</td>\n",
       "                        <td id=\"T_71955_row0_col1\" class=\"data row0 col1\" >$3.79</td>\n",
       "                        <td id=\"T_71955_row0_col2\" class=\"data row0 col2\" >$18.96</td>\n",
       "            </tr>\n",
       "            <tr>\n",
       "                        <th id=\"T_71955_level0_row1\" class=\"row_heading level0 row1\" >Idastidru52</th>\n",
       "                        <td id=\"T_71955_row1_col0\" class=\"data row1 col0\" >4</td>\n",
       "                        <td id=\"T_71955_row1_col1\" class=\"data row1 col1\" >$3.86</td>\n",
       "                        <td id=\"T_71955_row1_col2\" class=\"data row1 col2\" >$15.45</td>\n",
       "            </tr>\n",
       "            <tr>\n",
       "                        <th id=\"T_71955_level0_row2\" class=\"row_heading level0 row2\" >Chamjask73</th>\n",
       "                        <td id=\"T_71955_row2_col0\" class=\"data row2 col0\" >3</td>\n",
       "                        <td id=\"T_71955_row2_col1\" class=\"data row2 col1\" >$4.61</td>\n",
       "                        <td id=\"T_71955_row2_col2\" class=\"data row2 col2\" >$13.83</td>\n",
       "            </tr>\n",
       "            <tr>\n",
       "                        <th id=\"T_71955_level0_row3\" class=\"row_heading level0 row3\" >Iral74</th>\n",
       "                        <td id=\"T_71955_row3_col0\" class=\"data row3 col0\" >4</td>\n",
       "                        <td id=\"T_71955_row3_col1\" class=\"data row3 col1\" >$3.40</td>\n",
       "                        <td id=\"T_71955_row3_col2\" class=\"data row3 col2\" >$13.62</td>\n",
       "            </tr>\n",
       "            <tr>\n",
       "                        <th id=\"T_71955_level0_row4\" class=\"row_heading level0 row4\" >Iskadarya95</th>\n",
       "                        <td id=\"T_71955_row4_col0\" class=\"data row4 col0\" >3</td>\n",
       "                        <td id=\"T_71955_row4_col1\" class=\"data row4 col1\" >$4.37</td>\n",
       "                        <td id=\"T_71955_row4_col2\" class=\"data row4 col2\" >$13.10</td>\n",
       "            </tr>\n",
       "    </tbody></table>"
      ],
      "text/plain": [
       "<pandas.io.formats.style.Styler at 0x27953de48b0>"
      ]
     },
     "execution_count": 7,
     "metadata": {},
     "output_type": "execute_result"
    }
   ],
   "source": [
    "#Use Groupby in order to seperate the data into fields according to \"SN\" values\n",
    "SN_grouped=purchase_data.groupby(\"SN\")\n",
    "SN_grouped\n",
    "\n",
    "#Calculate, Purchase Count by SN\n",
    "Pur_count_by_SN=SN_grouped[\"Purchase ID\"].count()\n",
    "Pur_count_by_SN\n",
    "\n",
    "#Calculate Average Purchase Price by SN\n",
    "Ave_purchase_price_SN=SN_grouped[\"Price\"].mean()\n",
    "Ave_purchase_price_SN\n",
    "\n",
    "#Calculate Total Purchase by SN\n",
    "Total_purchase_SN=SN_grouped[\"Price\"].sum()\n",
    "Total_purchase_SN\n",
    "\n",
    "#Create new data frame to hold above data\n",
    "Top_Spender_demo=pd.DataFrame({\"Purchase Count\":Pur_count_by_SN,\"Average Purchase Price\":Ave_purchase_price_SN,\"Total Purchase Value\":Total_purchase_SN})\n",
    "Top_Spender_demo\n",
    "\n",
    "# Sort the Dataframe in descending order for top 5\n",
    "formatted_spender=Top_Spender_demo.sort_values([\"Total Purchase Value\"],ascending=False).head()\n",
    "formatted_spender\n",
    "\n",
    "# Further formatting for currency\n",
    "formatted_spender.style.format({\"Average Purchase Price\":'${:,.2f}',\"Total Purchase Value\":'${:,.2f}'})"
   ]
  },
  {
   "cell_type": "markdown",
   "metadata": {},
   "source": [
    "## Most Popular Items"
   ]
  },
  {
   "cell_type": "markdown",
   "metadata": {},
   "source": [
    "* Retrieve the Item ID, Item Name, and Item Price columns\n",
    "\n",
    "\n",
    "* Group by Item ID and Item Name. Perform calculations to obtain purchase count, average item price, and total purchase value\n",
    "\n",
    "\n",
    "* Create a summary data frame to hold the results\n",
    "\n",
    "\n",
    "* Sort the purchase count column in descending order\n",
    "\n",
    "\n",
    "* Optional: give the displayed data cleaner formatting\n",
    "\n",
    "\n",
    "* Display a preview of the summary data frame\n",
    "\n"
   ]
  },
  {
   "cell_type": "code",
   "execution_count": 22,
   "metadata": {},
   "outputs": [
    {
     "data": {
      "text/html": [
       "<style  type=\"text/css\" >\n",
       "</style><table id=\"T_c37da_\" ><thead>    <tr>        <th class=\"blank\" ></th>        <th class=\"blank level0\" ></th>        <th class=\"col_heading level0 col0\" >Purchase Count</th>        <th class=\"col_heading level0 col1\" >Item Price</th>        <th class=\"col_heading level0 col2\" >Total Purchase Value</th>    </tr>    <tr>        <th class=\"index_name level0\" >Item ID</th>        <th class=\"index_name level1\" >Item Name</th>        <th class=\"blank\" ></th>        <th class=\"blank\" ></th>        <th class=\"blank\" ></th>    </tr></thead><tbody>\n",
       "                <tr>\n",
       "                        <th id=\"T_c37da_level0_row0\" class=\"row_heading level0 row0\" >92</th>\n",
       "                        <th id=\"T_c37da_level1_row0\" class=\"row_heading level1 row0\" >Final Critic</th>\n",
       "                        <td id=\"T_c37da_row0_col0\" class=\"data row0 col0\" >13</td>\n",
       "                        <td id=\"T_c37da_row0_col1\" class=\"data row0 col1\" >$4.61</td>\n",
       "                        <td id=\"T_c37da_row0_col2\" class=\"data row0 col2\" >$59.99</td>\n",
       "            </tr>\n",
       "            <tr>\n",
       "                        <th id=\"T_c37da_level0_row1\" class=\"row_heading level0 row1\" >178</th>\n",
       "                        <th id=\"T_c37da_level1_row1\" class=\"row_heading level1 row1\" >Oathbreaker, Last Hope of the Breaking Storm</th>\n",
       "                        <td id=\"T_c37da_row1_col0\" class=\"data row1 col0\" >12</td>\n",
       "                        <td id=\"T_c37da_row1_col1\" class=\"data row1 col1\" >$4.23</td>\n",
       "                        <td id=\"T_c37da_row1_col2\" class=\"data row1 col2\" >$50.76</td>\n",
       "            </tr>\n",
       "            <tr>\n",
       "                        <th id=\"T_c37da_level0_row2\" class=\"row_heading level0 row2\" >145</th>\n",
       "                        <th id=\"T_c37da_level1_row2\" class=\"row_heading level1 row2\" >Fiery Glass Crusader</th>\n",
       "                        <td id=\"T_c37da_row2_col0\" class=\"data row2 col0\" >9</td>\n",
       "                        <td id=\"T_c37da_row2_col1\" class=\"data row2 col1\" >$4.58</td>\n",
       "                        <td id=\"T_c37da_row2_col2\" class=\"data row2 col2\" >$41.22</td>\n",
       "            </tr>\n",
       "            <tr>\n",
       "                        <th id=\"T_c37da_level0_row3\" class=\"row_heading level0 row3\" >132</th>\n",
       "                        <th id=\"T_c37da_level1_row3\" class=\"row_heading level1 row3\" >Persuasion</th>\n",
       "                        <td id=\"T_c37da_row3_col0\" class=\"data row3 col0\" >9</td>\n",
       "                        <td id=\"T_c37da_row3_col1\" class=\"data row3 col1\" >$3.22</td>\n",
       "                        <td id=\"T_c37da_row3_col2\" class=\"data row3 col2\" >$28.99</td>\n",
       "            </tr>\n",
       "            <tr>\n",
       "                        <th id=\"T_c37da_level0_row4\" class=\"row_heading level0 row4\" >108</th>\n",
       "                        <th id=\"T_c37da_level1_row4\" class=\"row_heading level1 row4\" >Extraction, Quickblade Of Trembling Hands</th>\n",
       "                        <td id=\"T_c37da_row4_col0\" class=\"data row4 col0\" >9</td>\n",
       "                        <td id=\"T_c37da_row4_col1\" class=\"data row4 col1\" >$3.53</td>\n",
       "                        <td id=\"T_c37da_row4_col2\" class=\"data row4 col2\" >$31.77</td>\n",
       "            </tr>\n",
       "    </tbody></table>"
      ],
      "text/plain": [
       "<pandas.io.formats.style.Styler at 0x27950d5d7c0>"
      ]
     },
     "execution_count": 22,
     "metadata": {},
     "output_type": "execute_result"
    }
   ],
   "source": [
    "#Create new Data frame with Item ID, Item Name and Item Price\n",
    "Items_df=purchase_data[[\"Item ID\",\"Item Name\",\"Price\"]]\n",
    "\n",
    "#Use Groupby in order to seperate the data into fields according to Item ID and the Item name values\n",
    "Items_grouped=Items_df.groupby([\"Item ID\",\"Item Name\"])\n",
    "Items_grouped\n",
    "\n",
    "#obtain purchase count\n",
    "Purchase_count_item=Items_grouped[\"Item ID\"].count()\n",
    "Purchase_count_item\n",
    "\n",
    "#Calculate total purchase value\n",
    "Total_purchase_value=Items_grouped[\"Price\"].sum()\n",
    "Total_purchase_value\n",
    "\n",
    "#Calculate average item price, \n",
    "Ave_item_price=Total_purchase_value/Purchase_count_item\n",
    "Ave_item_price\n",
    "\n",
    "# Create data frame to put them togethor\n",
    "Most_popular_item=pd.DataFrame({\"Purchase Count\":Purchase_count_item,\"Item Price\":Ave_item_price,\"Total Purchase Value\":Total_purchase_value})\n",
    "Most_popular_item\n",
    "\n",
    "# Sort the Dataframe in descending order Purchase Count for top 5\n",
    "formatted_Popular_item=Most_popular_item.sort_values([\"Purchase Count\"],ascending=False).head()\n",
    "formatted_Popular_item\n",
    "\n",
    "# Further formatting for currency\n",
    "formatted_Popular_item.style.format({\"Item Price\":'${:,.2f}',\"Total Purchase Value\":'${:,.2f}'})\n"
   ]
  },
  {
   "cell_type": "markdown",
   "metadata": {},
   "source": [
    "## Most Profitable Items"
   ]
  },
  {
   "cell_type": "markdown",
   "metadata": {},
   "source": [
    "* Sort the above table by total purchase value in descending order\n",
    "\n",
    "\n",
    "* Optional: give the displayed data cleaner formatting\n",
    "\n",
    "\n",
    "* Display a preview of the data frame\n",
    "\n"
   ]
  },
  {
   "cell_type": "code",
   "execution_count": 21,
   "metadata": {
    "scrolled": true
   },
   "outputs": [
    {
     "data": {
      "text/html": [
       "<style  type=\"text/css\" >\n",
       "</style><table id=\"T_2fb52_\" ><thead>    <tr>        <th class=\"blank\" ></th>        <th class=\"blank level0\" ></th>        <th class=\"col_heading level0 col0\" >Purchase Count</th>        <th class=\"col_heading level0 col1\" >Item Price</th>        <th class=\"col_heading level0 col2\" >Total Purchase Value</th>    </tr>    <tr>        <th class=\"index_name level0\" >Item ID</th>        <th class=\"index_name level1\" >Item Name</th>        <th class=\"blank\" ></th>        <th class=\"blank\" ></th>        <th class=\"blank\" ></th>    </tr></thead><tbody>\n",
       "                <tr>\n",
       "                        <th id=\"T_2fb52_level0_row0\" class=\"row_heading level0 row0\" >92</th>\n",
       "                        <th id=\"T_2fb52_level1_row0\" class=\"row_heading level1 row0\" >Final Critic</th>\n",
       "                        <td id=\"T_2fb52_row0_col0\" class=\"data row0 col0\" >13</td>\n",
       "                        <td id=\"T_2fb52_row0_col1\" class=\"data row0 col1\" >$4.61</td>\n",
       "                        <td id=\"T_2fb52_row0_col2\" class=\"data row0 col2\" >$59.99</td>\n",
       "            </tr>\n",
       "            <tr>\n",
       "                        <th id=\"T_2fb52_level0_row1\" class=\"row_heading level0 row1\" >178</th>\n",
       "                        <th id=\"T_2fb52_level1_row1\" class=\"row_heading level1 row1\" >Oathbreaker, Last Hope of the Breaking Storm</th>\n",
       "                        <td id=\"T_2fb52_row1_col0\" class=\"data row1 col0\" >12</td>\n",
       "                        <td id=\"T_2fb52_row1_col1\" class=\"data row1 col1\" >$4.23</td>\n",
       "                        <td id=\"T_2fb52_row1_col2\" class=\"data row1 col2\" >$50.76</td>\n",
       "            </tr>\n",
       "            <tr>\n",
       "                        <th id=\"T_2fb52_level0_row2\" class=\"row_heading level0 row2\" >82</th>\n",
       "                        <th id=\"T_2fb52_level1_row2\" class=\"row_heading level1 row2\" >Nirvana</th>\n",
       "                        <td id=\"T_2fb52_row2_col0\" class=\"data row2 col0\" >9</td>\n",
       "                        <td id=\"T_2fb52_row2_col1\" class=\"data row2 col1\" >$4.90</td>\n",
       "                        <td id=\"T_2fb52_row2_col2\" class=\"data row2 col2\" >$44.10</td>\n",
       "            </tr>\n",
       "            <tr>\n",
       "                        <th id=\"T_2fb52_level0_row3\" class=\"row_heading level0 row3\" >145</th>\n",
       "                        <th id=\"T_2fb52_level1_row3\" class=\"row_heading level1 row3\" >Fiery Glass Crusader</th>\n",
       "                        <td id=\"T_2fb52_row3_col0\" class=\"data row3 col0\" >9</td>\n",
       "                        <td id=\"T_2fb52_row3_col1\" class=\"data row3 col1\" >$4.58</td>\n",
       "                        <td id=\"T_2fb52_row3_col2\" class=\"data row3 col2\" >$41.22</td>\n",
       "            </tr>\n",
       "            <tr>\n",
       "                        <th id=\"T_2fb52_level0_row4\" class=\"row_heading level0 row4\" >103</th>\n",
       "                        <th id=\"T_2fb52_level1_row4\" class=\"row_heading level1 row4\" >Singed Scalpel</th>\n",
       "                        <td id=\"T_2fb52_row4_col0\" class=\"data row4 col0\" >8</td>\n",
       "                        <td id=\"T_2fb52_row4_col1\" class=\"data row4 col1\" >$4.35</td>\n",
       "                        <td id=\"T_2fb52_row4_col2\" class=\"data row4 col2\" >$34.80</td>\n",
       "            </tr>\n",
       "    </tbody></table>"
      ],
      "text/plain": [
       "<pandas.io.formats.style.Styler at 0x27952edf700>"
      ]
     },
     "execution_count": 21,
     "metadata": {},
     "output_type": "execute_result"
    }
   ],
   "source": [
    "# Sort the Dataframe in descending order by Total Purchase Value for top 5\n",
    "formatted_Popular_item=Most_popular_item.sort_values([\"Total Purchase Value\"],ascending=False).head()\n",
    "formatted_Popular_item\n",
    "\n",
    "formatted_Popular_item.style.format({\"Item Price\":'${:,.2f}',\"Total Purchase Value\":'${:,.2f}'})"
   ]
  }
 ],
 "metadata": {
  "anaconda-cloud": {},
  "kernel_info": {
   "name": "python3"
  },
  "kernelspec": {
   "display_name": "Python 3",
   "language": "python",
   "name": "python3"
  },
  "language_info": {
   "codemirror_mode": {
    "name": "ipython",
    "version": 3
   },
   "file_extension": ".py",
   "mimetype": "text/x-python",
   "name": "python",
   "nbconvert_exporter": "python",
   "pygments_lexer": "ipython3",
   "version": "3.8.8"
  },
  "latex_envs": {
   "LaTeX_envs_menu_present": true,
   "autoclose": false,
   "autocomplete": true,
   "bibliofile": "biblio.bib",
   "cite_by": "apalike",
   "current_citInitial": 1,
   "eqLabelWithNumbers": true,
   "eqNumInitial": 1,
   "hotkeys": {
    "equation": "Ctrl-E",
    "itemize": "Ctrl-I"
   },
   "labels_anchors": false,
   "latex_user_defs": false,
   "report_style_numbering": false,
   "user_envs_cfg": false
  },
  "nteract": {
   "version": "0.2.0"
  }
 },
 "nbformat": 4,
 "nbformat_minor": 4
}
